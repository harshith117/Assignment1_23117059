{
 "cells": [
  {
   "cell_type": "code",
   "execution_count": null,
   "metadata": {
    "execution": {
     "iopub.execute_input": "2024-10-10T14:39:56.710848Z",
     "iopub.status.busy": "2024-10-10T14:39:56.709579Z",
     "iopub.status.idle": "2024-10-10T14:40:00.747902Z",
     "shell.execute_reply": "2024-10-10T14:40:00.74654Z",
     "shell.execute_reply.started": "2024-10-10T14:39:56.710791Z"
    }
   },
   "outputs": [],
   "source": [
    "import pandas as pd\n",
    "import numpy as np\n",
    "import matplotlib.pyplot as plt\n",
    "import plotly.express as px\n",
    "import seaborn as sns\n",
    "import matplotlib.pyplot as plt\n",
    "from wordcloud import WordCloud, STOPWORDS\n",
    "from collections import Counter\n",
    "import pandas as pd\n",
    "import warnings\n",
    "warnings.filterwarnings('ignore')"
   ]
  },
  {
   "cell_type": "code",
   "execution_count": null,
   "metadata": {
    "execution": {
     "iopub.execute_input": "2024-10-10T14:40:00.751112Z",
     "iopub.status.busy": "2024-10-10T14:40:00.750465Z",
     "iopub.status.idle": "2024-10-10T14:40:00.780752Z",
     "shell.execute_reply": "2024-10-10T14:40:00.779192Z",
     "shell.execute_reply.started": "2024-10-10T14:40:00.751067Z"
    }
   },
   "outputs": [],
   "source": [
    "df = pd.read_csv(\"/kaggle/input/food-order-cost-and-profit-analysis/food_orders_new_delhi (1).csv\", encoding='ISO-8859-1', header=0)\n"
   ]
  },
  {
   "cell_type": "code",
   "execution_count": null,
   "metadata": {
    "execution": {
     "iopub.execute_input": "2024-10-10T14:40:00.783633Z",
     "iopub.status.busy": "2024-10-10T14:40:00.782894Z",
     "iopub.status.idle": "2024-10-10T14:40:00.815083Z",
     "shell.execute_reply": "2024-10-10T14:40:00.81348Z",
     "shell.execute_reply.started": "2024-10-10T14:40:00.783572Z"
    }
   },
   "outputs": [],
   "source": [
    "df.head()\n"
   ]
  },
  {
   "cell_type": "code",
   "execution_count": null,
   "metadata": {
    "execution": {
     "iopub.execute_input": "2024-10-10T14:40:00.818516Z",
     "iopub.status.busy": "2024-10-10T14:40:00.81803Z",
     "iopub.status.idle": "2024-10-10T14:40:00.838394Z",
     "shell.execute_reply": "2024-10-10T14:40:00.837008Z",
     "shell.execute_reply.started": "2024-10-10T14:40:00.81847Z"
    }
   },
   "outputs": [],
   "source": [
    "df.tail()"
   ]
  },
  {
   "cell_type": "code",
   "execution_count": null,
   "metadata": {
    "execution": {
     "iopub.execute_input": "2024-10-10T14:41:35.041766Z",
     "iopub.status.busy": "2024-10-10T14:41:35.041189Z",
     "iopub.status.idle": "2024-10-10T14:41:35.051033Z",
     "shell.execute_reply": "2024-10-10T14:41:35.049333Z",
     "shell.execute_reply.started": "2024-10-10T14:41:35.041717Z"
    }
   },
   "outputs": [],
   "source": [
    "df.shape"
   ]
  },
  {
   "cell_type": "code",
   "execution_count": null,
   "metadata": {
    "execution": {
     "iopub.execute_input": "2024-10-10T14:40:00.840618Z",
     "iopub.status.busy": "2024-10-10T14:40:00.840094Z",
     "iopub.status.idle": "2024-10-10T14:40:00.864131Z",
     "shell.execute_reply": "2024-10-10T14:40:00.862396Z",
     "shell.execute_reply.started": "2024-10-10T14:40:00.840563Z"
    }
   },
   "outputs": [],
   "source": [
    "df.isnull().sum()\n"
   ]
  },
  {
   "cell_type": "code",
   "execution_count": null,
   "metadata": {
    "execution": {
     "iopub.execute_input": "2024-10-10T14:40:00.867294Z",
     "iopub.status.busy": "2024-10-10T14:40:00.866559Z",
     "iopub.status.idle": "2024-10-10T14:40:00.899545Z",
     "shell.execute_reply": "2024-10-10T14:40:00.897843Z",
     "shell.execute_reply.started": "2024-10-10T14:40:00.867233Z"
    }
   },
   "outputs": [],
   "source": [
    "df.info()\n"
   ]
  },
  {
   "cell_type": "code",
   "execution_count": null,
   "metadata": {
    "execution": {
     "iopub.execute_input": "2024-10-10T14:40:00.902455Z",
     "iopub.status.busy": "2024-10-10T14:40:00.901819Z",
     "iopub.status.idle": "2024-10-10T14:40:00.922349Z",
     "shell.execute_reply": "2024-10-10T14:40:00.920495Z",
     "shell.execute_reply.started": "2024-10-10T14:40:00.902394Z"
    }
   },
   "outputs": [],
   "source": [
    "df.isna().sum()\n"
   ]
  },
  {
   "cell_type": "code",
   "execution_count": null,
   "metadata": {
    "execution": {
     "iopub.execute_input": "2024-10-10T14:40:00.925772Z",
     "iopub.status.busy": "2024-10-10T14:40:00.925097Z",
     "iopub.status.idle": "2024-10-10T14:40:00.937024Z",
     "shell.execute_reply": "2024-10-10T14:40:00.935722Z",
     "shell.execute_reply.started": "2024-10-10T14:40:00.925711Z"
    }
   },
   "outputs": [],
   "source": [
    "print(\"Missing values in each column:\")\n",
    "print(df.isnull().sum())\n",
    "\n"
   ]
  },
  {
   "cell_type": "code",
   "execution_count": null,
   "metadata": {
    "execution": {
     "iopub.execute_input": "2024-10-10T14:40:00.939428Z",
     "iopub.status.busy": "2024-10-10T14:40:00.938798Z",
     "iopub.status.idle": "2024-10-10T14:40:01.614817Z",
     "shell.execute_reply": "2024-10-10T14:40:01.613531Z",
     "shell.execute_reply.started": "2024-10-10T14:40:00.939343Z"
    }
   },
   "outputs": [],
   "source": [
    "df.describe().T.plot(kind='bar')\n"
   ]
  },
  {
   "cell_type": "code",
   "execution_count": null,
   "metadata": {
    "execution": {
     "iopub.execute_input": "2024-10-10T14:40:01.619329Z",
     "iopub.status.busy": "2024-10-10T14:40:01.618833Z",
     "iopub.status.idle": "2024-10-10T14:40:03.789293Z",
     "shell.execute_reply": "2024-10-10T14:40:03.787993Z",
     "shell.execute_reply.started": "2024-10-10T14:40:01.619283Z"
    }
   },
   "outputs": [],
   "source": [
    "import plotly.express as px\n",
    "import pandas as pd\n",
    "\n",
    "# Assuming df is already defined\n",
    "\n",
    "# اختيار الأعمدة الرقمية فقط\n",
    "numeric_df = df.select_dtypes(include=[float, int])\n",
    "\n",
    "# حساب مصفوفة معامل الارتباط\n",
    "correlation_matrix = numeric_df.corr()\n",
    "\n",
    "# رسم خريطة حرارية لمصفوفة معامل الارتباط باستخدام Plotly\n",
    "fig = px.imshow(correlation_matrix, text_auto=True, aspect=\"auto\",\n",
    "                title='Correlation Matrix',\n",
    "                color_continuous_scale='RdBu_r')\n",
    "fig.show()"
   ]
  },
  {
   "cell_type": "code",
   "execution_count": null,
   "metadata": {
    "execution": {
     "iopub.execute_input": "2024-10-10T14:43:41.637645Z",
     "iopub.status.busy": "2024-10-10T14:43:41.636128Z",
     "iopub.status.idle": "2024-10-10T14:43:42.072103Z",
     "shell.execute_reply": "2024-10-10T14:43:42.070562Z",
     "shell.execute_reply.started": "2024-10-10T14:43:41.63758Z"
    }
   },
   "outputs": [],
   "source": [
    "# Plot distribution of order values\n",
    "plt.figure(figsize=(10, 6))\n",
    "sns.histplot(df['Order Value'], bins=30, kde=True)\n",
    "plt.title('Distribution of Order Values')\n",
    "plt.xlabel('Order Value')\n",
    "plt.ylabel('Frequency')\n",
    "plt.show()"
   ]
  },
  {
   "cell_type": "code",
   "execution_count": null,
   "metadata": {
    "execution": {
     "iopub.execute_input": "2024-10-10T14:40:03.791663Z",
     "iopub.status.busy": "2024-10-10T14:40:03.791122Z",
     "iopub.status.idle": "2024-10-10T14:40:03.801268Z",
     "shell.execute_reply": "2024-10-10T14:40:03.79962Z",
     "shell.execute_reply.started": "2024-10-10T14:40:03.791605Z"
    }
   },
   "outputs": [],
   "source": [
    "df.columns.tolist()\n"
   ]
  },
  {
   "cell_type": "code",
   "execution_count": null,
   "metadata": {
    "execution": {
     "iopub.execute_input": "2024-10-10T14:40:09.346632Z",
     "iopub.status.busy": "2024-10-10T14:40:09.34597Z",
     "iopub.status.idle": "2024-10-10T14:40:44.314341Z",
     "shell.execute_reply": "2024-10-10T14:40:44.313174Z",
     "shell.execute_reply.started": "2024-10-10T14:40:09.346569Z"
    }
   },
   "outputs": [],
   "source": [
    "for col in df:\n",
    "    sns.histplot(x=col,data=df,kde=True)\n",
    "    plt.show()"
   ]
  },
  {
   "cell_type": "code",
   "execution_count": null,
   "metadata": {
    "execution": {
     "iopub.execute_input": "2024-10-10T14:40:44.316744Z",
     "iopub.status.busy": "2024-10-10T14:40:44.31632Z",
     "iopub.status.idle": "2024-10-10T14:41:19.465942Z",
     "shell.execute_reply": "2024-10-10T14:41:19.464483Z",
     "shell.execute_reply.started": "2024-10-10T14:40:44.316699Z"
    }
   },
   "outputs": [],
   "source": [
    "for col in df:\n",
    "    if df[col].dtype == 'O':\n",
    "        sns.countplot(x=col,data=df)\n",
    "        plt.show()"
   ]
  },
  {
   "cell_type": "code",
   "execution_count": null,
   "metadata": {
    "execution": {
     "iopub.execute_input": "2024-10-10T14:42:29.658752Z",
     "iopub.status.busy": "2024-10-10T14:42:29.658207Z",
     "iopub.status.idle": "2024-10-10T14:42:31.463653Z",
     "shell.execute_reply": "2024-10-10T14:42:31.46229Z",
     "shell.execute_reply.started": "2024-10-10T14:42:29.658707Z"
    }
   },
   "outputs": [],
   "source": [
    "import plotly.express as px\n",
    "import pandas as pd\n",
    "\n",
    "# Assuming df is already defined and contains the data\n",
    "\n",
    "# Define the columns you want to plot\n",
    "columns =['Order ID',\n",
    " 'Customer ID',\n",
    " 'Restaurant ID',\n",
    " 'Order Date and Time',\n",
    " 'Delivery Date and Time',\n",
    " 'Order Value',\n",
    " 'Delivery Fee',\n",
    " 'Payment Method',\n",
    " 'Discounts and Offers',\n",
    " 'Commission Fee',\n",
    " 'Payment Processing Fee',\n",
    " 'Refunds/Chargebacks']\n",
    "# Iterate through each column and create a bar chart or histogram\n",
    "for column in columns:\n",
    "    try:\n",
    "        if column not in df.columns:\n",
    "            print(f\"Column {column} does not exist in the DataFrame\")\n",
    "            continue\n",
    "        \n",
    "        # Check if the column is suitable for a bar chart (categorical data)\n",
    "        if df[column].dtype == 'object' or df[column].dtype.name == 'category':\n",
    "            # Count the occurrences of each unique value\n",
    "            column_counts = df[column].value_counts().reset_index()\n",
    "            column_counts.columns = [column, 'count']\n",
    "            \n",
    "            # Create a bar chart using plotly.express\n",
    "            fig = px.bar(\n",
    "                column_counts,\n",
    "                x=column,\n",
    "                y='count',\n",
    "                title=f'Distribution of {column}',\n",
    "                labels={column: column, 'count': 'Count'},\n",
    "                text='count'\n",
    "            )\n",
    "            \n",
    "            # Update layout for better readability\n",
    "            fig.update_layout(\n",
    "                xaxis_title=column,\n",
    "                yaxis_title='Count',\n",
    "                paper_bgcolor='rgba(0,0,0,0)',\n",
    "                plot_bgcolor='rgba(0,0,0,0)',\n",
    "                title_font=dict(size=18, family=\"Arial\"),\n",
    "                xaxis={'categoryorder': 'total descending'}\n",
    "            )\n",
    "            \n",
    "            # Show the figure\n",
    "            fig.show()\n",
    "\n",
    "        # For numerical data\n",
    "        elif df[column].dtype in ['int64', 'float64']:\n",
    "            # Create a histogram for numerical columns\n",
    "            fig = px.histogram(\n",
    "                df,\n",
    "                x=column,\n",
    "                title=f'Distribution of {column}',\n",
    "                labels={column: column, 'count': 'Count'}\n",
    "            )\n",
    "            \n",
    "            # Update layout for better readability\n",
    "            fig.update_layout(\n",
    "                xaxis_title=column,\n",
    "                yaxis_title='Count',\n",
    "                paper_bgcolor='rgba(0,0,0,0)',\n",
    "                plot_bgcolor='rgba(0,0,0,0)',\n",
    "                title_font=dict(size=18, family=\"Arial\")\n",
    "            )\n",
    "            \n",
    "            # Show the figure\n",
    "            fig.show()\n",
    "    \n",
    "    except Exception as e:\n",
    "        print(f\"Could not create plot for column {column}: {e}\")"
   ]
  },
  {
   "cell_type": "code",
   "execution_count": null,
   "metadata": {
    "execution": {
     "iopub.execute_input": "2024-10-10T14:42:46.554996Z",
     "iopub.status.busy": "2024-10-10T14:42:46.55352Z",
     "iopub.status.idle": "2024-10-10T14:42:47.378701Z",
     "shell.execute_reply": "2024-10-10T14:42:47.377202Z",
     "shell.execute_reply.started": "2024-10-10T14:42:46.554922Z"
    }
   },
   "outputs": [],
   "source": [
    "import matplotlib.pyplot as plt\n",
    "from wordcloud import WordCloud, STOPWORDS\n",
    "from collections import Counter\n",
    "import pandas as pd\n",
    "\n",
    "# Assuming `dataset` is your DataFrame and `stop_words_list` is a list of stopwords\n",
    "\n",
    "# Example stopwords list, modify as needed\n",
    "stop_words_list = set(STOPWORDS)\n",
    "\n",
    "# Generate frequency counts from the 'business_category' column\n",
    "counts = Counter(df[\"Discounts and Offers\"].dropna().apply(lambda x: str(x)))\n",
    "\n",
    "# Generate the word cloud\n",
    "wcc = WordCloud(\n",
    "    background_color=\"black\",\n",
    "    width=1600, height=800,\n",
    "    max_words=2000,\n",
    "    stopwords=stop_words_list\n",
    ")\n",
    "wcc.generate_from_frequencies(counts)\n",
    "\n",
    "# Display the word cloud\n",
    "plt.figure(figsize=(10, 5), facecolor='k')\n",
    "plt.imshow(wcc, interpolation='bilinear')\n",
    "plt.axis(\"off\")\n",
    "plt.tight_layout(pad=0)\n",
    "plt.show()"
   ]
  },
  {
   "cell_type": "code",
   "execution_count": null,
   "metadata": {
    "execution": {
     "iopub.execute_input": "2024-10-10T14:44:00.845857Z",
     "iopub.status.busy": "2024-10-10T14:44:00.845333Z",
     "iopub.status.idle": "2024-10-10T14:44:01.169618Z",
     "shell.execute_reply": "2024-10-10T14:44:01.168249Z",
     "shell.execute_reply.started": "2024-10-10T14:44:00.845811Z"
    }
   },
   "outputs": [],
   "source": [
    "# Import necessary libraries for modeling\n",
    "from sklearn.model_selection import train_test_split\n",
    "from sklearn.linear_model import LinearRegression\n",
    "from sklearn.metrics import mean_squared_error, r2_score\n",
    "\n",
    "# Define features and target variable\n",
    "X = numeric_df.drop(columns=['Delivery Fee'])\n",
    "y = numeric_df['Delivery Fee']\n",
    "\n",
    "# Split the data into training and testing sets\n",
    "X_train, X_test, y_train, y_test = train_test_split(X, y, test_size=0.2, random_state=42)\n",
    "\n",
    "# Initialize and train the model\n",
    "model = LinearRegression()\n",
    "model.fit(X_train, y_train)\n",
    "\n",
    "# Make predictions\n",
    "y_pred = model.predict(X_test)\n",
    "\n",
    "# Evaluate the model\n",
    "mse = mean_squared_error(y_test, y_pred)\n",
    "r2 = r2_score(y_test, y_pred)\n",
    "(mse, r2)"
   ]
  }
 ],
 "metadata": {
  "kaggle": {
   "accelerator": "none",
   "dataSources": [
    {
     "datasetId": 5793800,
     "sourceId": 9516728,
     "sourceType": "datasetVersion"
    }
   ],
   "dockerImageVersionId": 30786,
   "isGpuEnabled": false,
   "isInternetEnabled": false,
   "language": "python",
   "sourceType": "notebook"
  },
  "kernelspec": {
   "display_name": "Python 3 (ipykernel)",
   "language": "python",
   "name": "python3"
  },
  "language_info": {
   "codemirror_mode": {
    "name": "ipython",
    "version": 3
   },
   "file_extension": ".py",
   "mimetype": "text/x-python",
   "name": "python",
   "nbconvert_exporter": "python",
   "pygments_lexer": "ipython3",
   "version": "3.12.4"
  }
 },
 "nbformat": 4,
 "nbformat_minor": 4
}
